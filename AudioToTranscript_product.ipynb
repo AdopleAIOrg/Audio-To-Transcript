{
  "nbformat": 4,
  "nbformat_minor": 0,
  "metadata": {
    "colab": {
      "provenance": [],
      "authorship_tag": "ABX9TyPGXdTUzHrQoUwa5Fx84Hle",
      "include_colab_link": true
    },
    "kernelspec": {
      "name": "python3",
      "display_name": "Python 3"
    },
    "language_info": {
      "name": "python"
    }
  },
  "cells": [
    {
      "cell_type": "markdown",
      "metadata": {
        "id": "view-in-github",
        "colab_type": "text"
      },
      "source": [
        "<a href=\"https://colab.research.google.com/github/AdopleAIOrg/Audio-To-Transcript/blob/main/AudioToTranscript_product.ipynb\" target=\"_parent\"><img src=\"https://colab.research.google.com/assets/colab-badge.svg\" alt=\"Open In Colab\"/></a>"
      ]
    },
    {
      "cell_type": "code",
      "execution_count": null,
      "metadata": {
        "id": "Kk0fiBZaLuDG"
      },
      "outputs": [],
      "source": [
        "!pip install -r /content/requirements.txt"
      ]
    },
    {
      "cell_type": "code",
      "source": [
        "%%writefile app.py\n",
        "import streamlit as st\n",
        "from transformers import pipeline\n",
        "\n",
        "class AudioToTranscript:\n",
        "  def __init__(self):\n",
        "      self.model = pipeline(\"automatic-speech-recognition\", model=\"jonatasgrosman/wav2vec2-large-english\")\n",
        "\n",
        "  def _audio_transcribe(self,audio_file):\n",
        "      text = self.model(audio_file.read())[\"text\"]\n",
        "      return text\n",
        "\n",
        "  def streamlit_interface(self):\n",
        "      st.title(\"Speech Transcription App\")\n",
        "      st.write(\"Upload an audio file to transcribe speech to text.\")\n",
        "\n",
        "      audio_file = st.file_uploader(\"Upload an audio file\", type=[\"mp3\", \"wav\"])\n",
        "      if audio_file is not None:\n",
        "          transcribed_text = self._audio_transcribe(audio_file)\n",
        "          st.write(\"Transcribed text:\")\n",
        "          st.write(transcribed_text)\n",
        "\n",
        "if __name__ == \"__main__\":\n",
        "\n",
        "      audio_trans = AudioToTranscript()\n",
        "      audio_trans.streamlit_interface()"
      ],
      "metadata": {
        "id": "1oPsmE7mL_Ye"
      },
      "execution_count": null,
      "outputs": []
    },
    {
      "cell_type": "code",
      "source": [
        "!streamlit run app.py & npx localtunnel --port 8501"
      ],
      "metadata": {
        "id": "nWryzlTPNiLW"
      },
      "execution_count": null,
      "outputs": []
    }
  ]
}